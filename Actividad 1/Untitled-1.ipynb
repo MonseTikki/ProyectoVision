{
 "cells": [
  {
   "cell_type": "code",
   "execution_count": null,
   "id": "f3f7eb6c",
   "metadata": {},
   "outputs": [
    {
     "ename": "",
     "evalue": "",
     "output_type": "error",
     "traceback": [
      "\u001b[1;31mThe Kernel crashed while executing code in the current cell or a previous cell. \n",
      "\u001b[1;31mPlease review the code in the cell(s) to identify a possible cause of the failure. \n",
      "\u001b[1;31mClick <a href='https://aka.ms/vscodeJupyterKernelCrash'>here</a> for more info. \n",
      "\u001b[1;31mView Jupyter <a href='command:jupyter.viewOutput'>log</a> for further details."
     ]
    }
   ],
   "source": [
    "#---------------------------------------------------------------------\n",
    "# Image capture program\n",
    "#------------------------------------------------------------------\n",
    "import cv2\n",
    "import pickle\n",
    "from datetime import datetime\n",
    "# Initialize camera\n",
    "cam_port = 0\n",
    "cam = cv2.VideoCapture()\n",
    "cam.open(cam_port, cv2.CAP_DSHOW)\n",
    "font = cv2.FONT_HERSHEY_SIMPLEX\n",
    "# Read images\n",
    "n_images = 50\n",
    "images = []\n",
    "i = 0\n",
    "while (i<n_images):\n",
    "result, frame = cam.read()\n",
    "# Show result\n",
    "if result:\n",
    "frame_with_text = frame.copy()\n",
    "text = \"Image \" + str(i) + \"/\" + str(n_images)\n",
    "cv2.putText(frame_with_text, text, (10,450), font, 2, (0, 255, 0), 2,\n",
    "cv2.LINE_AA)\n",
    "cv2.imshow(\"<<Press + to capture image>>\", frame_with_text)\n",
    "if cv2.waitKey(1) & 0xFF == ord('+'):\n",
    "images.append(frame)\n",
    "i+=1\n",
    "print(\"Image \" + str(i) + \"/\" + str(n_images))\n",
    "if cv2.waitKey(1) & 0xFF == ord('q'):\n",
    "break\n",
    "else:\n",
    "print(\"No image detected\")\n",
    "cam.release()\n",
    "cv2.destroyAllWindows()\n",
    "# Save data\n",
    "now = datetime.now().strftime(\"%m_%d_%Y_%H_%M_%S\")\n",
    "outputFile = open(now + '.obj', 'wb')\n",
    "pickle.dump(images, outputFile)\n",
    "outputFile.close()\n",
    "#----------------------------------------------------------------------------------\n",
    "--------------------------------\n",
    "# End of file\n",
    "#----------------------------------------------------------------------------------\n",
    "--------------------------------\n"
   ]
  },
  {
   "cell_type": "markdown",
   "id": "bbb2d1dc",
   "metadata": {},
   "source": [
    "# Prueba de camara"
   ]
  },
  {
   "cell_type": "code",
   "execution_count": 2,
   "id": "ed6f1001",
   "metadata": {},
   "outputs": [
    {
     "ename": "KeyboardInterrupt",
     "evalue": "",
     "output_type": "error",
     "traceback": [
      "\u001b[31m---------------------------------------------------------------------------\u001b[39m",
      "\u001b[31mKeyboardInterrupt\u001b[39m                         Traceback (most recent call last)",
      "\u001b[36mCell\u001b[39m\u001b[36m \u001b[39m\u001b[32mIn[2]\u001b[39m\u001b[32m, line 17\u001b[39m\n\u001b[32m     15\u001b[39m i = \u001b[32m0\u001b[39m\n\u001b[32m     16\u001b[39m \u001b[38;5;28;01mwhile\u001b[39;00m (i<n_images):\n\u001b[32m---> \u001b[39m\u001b[32m17\u001b[39m     result, frame = \u001b[43mcam\u001b[49m\u001b[43m.\u001b[49m\u001b[43mread\u001b[49m\u001b[43m(\u001b[49m\u001b[43m)\u001b[49m\n\u001b[32m     18\u001b[39m     \u001b[38;5;66;03m# Show result\u001b[39;00m\n\u001b[32m     19\u001b[39m     \u001b[38;5;28;01mif\u001b[39;00m result:\n",
      "\u001b[31mKeyboardInterrupt\u001b[39m: "
     ]
    }
   ],
   "source": [
    "#----------------------------------------------------------------\n",
    "# Image capture program\n",
    "#--------------------------------------------------------------------------\n",
    "import cv2\n",
    "import pickle\n",
    "from datetime import datetime\n",
    "# Initialize camera\n",
    "cam_port = 0\n",
    "cam = cv2.VideoCapture()\n",
    "cam.open(cam_port, cv2.CAP_DSHOW)\n",
    "font = cv2.FONT_HERSHEY_SIMPLEX\n",
    "# Read images\n",
    "n_images = 50\n",
    "images = []\n",
    "i = 0\n",
    "while (i<n_images):\n",
    "    result, frame = cam.read()\n",
    "    # Show result\n",
    "    if result:\n",
    "        frame_with_text = frame.copy()\n",
    "        text = \"Image \" + str(i) + \"/\" + str(n_images)\n",
    "        cv2.putText(frame_with_text, text, (10,450), font, 2, (0, 255, 0), 2,\n",
    "cv2.LINE_AA)\n",
    "        cv2.imshow(\"<<Press + to capture image>>\", frame_with_text)\n",
    "        if cv2.waitKey(1) & 0xFF == ord('+'):\n",
    "            images.append(frame)\n",
    "            i += 1\n",
    "            print(\"Image \" + str(i) + \"/\" + str(n_images))\n",
    "        if cv2.waitKey(1) & 0xFF == ord('q'):\n",
    "            break\n",
    "    else:\n",
    "        print(\"No image detected\")\n",
    "cam.release()\n",
    "cv2.destroyAllWindows()\n",
    "# Save data\n",
    "now = datetime.now().strftime(\"%m_%d_%Y_%H_%M_%S\")\n",
    "outputFile = open(now + '.obj', 'wb')\n",
    "pickle.dump(images, outputFile)\n",
    "outputFile.close()\n",
    "#-------------------------------------------------------------------------\n",
    "# End of file\n",
    "#--------------------------------------------------------------------------\n"
   ]
  }
 ],
 "metadata": {
  "kernelspec": {
   "display_name": "Python 3",
   "language": "python",
   "name": "python3"
  },
  "language_info": {
   "codemirror_mode": {
    "name": "ipython",
    "version": 3
   },
   "file_extension": ".py",
   "mimetype": "text/x-python",
   "name": "python",
   "nbconvert_exporter": "python",
   "pygments_lexer": "ipython3",
   "version": "3.13.7"
  }
 },
 "nbformat": 4,
 "nbformat_minor": 5
}
